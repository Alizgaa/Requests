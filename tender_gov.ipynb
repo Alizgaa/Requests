{
 "cells": [
  {
   "cell_type": "code",
   "execution_count": 2,
   "id": "1293eeef-b069-413c-a06b-60b9fe92e34e",
   "metadata": {
    "tags": []
   },
   "outputs": [],
   "source": [
    "import pandas as pd\n",
    "import requests\n",
    "from bs4 import BeautifulSoup\n",
    "from fake_useragent import UserAgent\n",
    "import lxml\n"
   ]
  },
  {
   "cell_type": "code",
   "execution_count": 27,
   "id": "d5b26290-f491-42f1-a565-48002ea6dc7f",
   "metadata": {
    "tags": []
   },
   "outputs": [
    {
     "data": {
      "text/plain": [
       "['https://www.tender.gov.mn/mn/result/?year=allYear&tenderCode=undefined&page=1&perpage=10000&sortField=&sortOrder=&get=1',\n",
       " 'https://www.tender.gov.mn/mn/result/?year=allYear&tenderCode=undefined&page=2&perpage=10000&sortField=&sortOrder=&get=1',\n",
       " 'https://www.tender.gov.mn/mn/result/?year=allYear&tenderCode=undefined&page=3&perpage=10000&sortField=&sortOrder=&get=1',\n",
       " 'https://www.tender.gov.mn/mn/result/?year=allYear&tenderCode=undefined&page=4&perpage=10000&sortField=&sortOrder=&get=1',\n",
       " 'https://www.tender.gov.mn/mn/result/?year=allYear&tenderCode=undefined&page=5&perpage=10000&sortField=&sortOrder=&get=1',\n",
       " 'https://www.tender.gov.mn/mn/result/?year=allYear&tenderCode=undefined&page=6&perpage=10000&sortField=&sortOrder=&get=1',\n",
       " 'https://www.tender.gov.mn/mn/result/?year=allYear&tenderCode=undefined&page=7&perpage=10000&sortField=&sortOrder=&get=1',\n",
       " 'https://www.tender.gov.mn/mn/result/?year=allYear&tenderCode=undefined&page=8&perpage=10000&sortField=&sortOrder=&get=1',\n",
       " 'https://www.tender.gov.mn/mn/result/?year=allYear&tenderCode=undefined&page=9&perpage=10000&sortField=&sortOrder=&get=1',\n",
       " 'https://www.tender.gov.mn/mn/result/?year=allYear&tenderCode=undefined&page=10&perpage=10000&sortField=&sortOrder=&get=1',\n",
       " 'https://www.tender.gov.mn/mn/result/?year=allYear&tenderCode=undefined&page=11&perpage=10000&sortField=&sortOrder=&get=1',\n",
       " 'https://www.tender.gov.mn/mn/result/?year=allYear&tenderCode=undefined&page=12&perpage=10000&sortField=&sortOrder=&get=1',\n",
       " 'https://www.tender.gov.mn/mn/result/?year=allYear&tenderCode=undefined&page=13&perpage=10000&sortField=&sortOrder=&get=1']"
      ]
     },
     "execution_count": 27,
     "metadata": {},
     "output_type": "execute_result"
    }
   ],
   "source": [
    "ua = UserAgent()\n",
    "fake_ua = {'user-agent': ua.random}\n",
    "\n",
    "\n",
    "url_list = [f'https://www.tender.gov.mn/mn/result/?year=allYear&tenderCode=undefined&page={i}&perpage=10000&sortField=&sortOrder=&get=1' for i in range(1, 14)]\n",
    "url_list"
   ]
  },
  {
   "cell_type": "code",
   "execution_count": 28,
   "id": "7ce318f2-a307-4641-a2ba-0e77ed871ce8",
   "metadata": {
    "tags": []
   },
   "outputs": [],
   "source": [
    "response = requests.get(url='https://www.tender.gov.mn/mn/result/?year=allYear&tenderCode=undefined&page={i}&perpage=10&sortField=&sortOrder=&get=1', headers=fake_ua)\n",
    "response.encoding = 'utf-8'\n",
    "soup = BeautifulSoup(response.text, 'lxml')\n",
    "headers = [txt.text.strip() for txt in soup.find('table', class_='table sortable').find_all('th')]"
   ]
  },
  {
   "cell_type": "code",
   "execution_count": 29,
   "id": "7756f479-5d40-4b6f-bb09-a855c92b4450",
   "metadata": {
    "tags": []
   },
   "outputs": [
    {
     "data": {
      "text/html": [
       "<div>\n",
       "<style scoped>\n",
       "    .dataframe tbody tr th:only-of-type {\n",
       "        vertical-align: middle;\n",
       "    }\n",
       "\n",
       "    .dataframe tbody tr th {\n",
       "        vertical-align: top;\n",
       "    }\n",
       "\n",
       "    .dataframe thead th {\n",
       "        text-align: right;\n",
       "    }\n",
       "</style>\n",
       "<table border=\"1\" class=\"dataframe\">\n",
       "  <thead>\n",
       "    <tr style=\"text-align: right;\">\n",
       "      <th></th>\n",
       "      <th>Урилгын дугаар</th>\n",
       "      <th>ТШ-ын код</th>\n",
       "      <th>Тендер шалгаруулалтын нэр</th>\n",
       "      <th>Захиалагчийн нэр</th>\n",
       "      <th>Төсөвт өртөг</th>\n",
       "      <th>Нээсэн огноо</th>\n",
       "      <th>Төлөв</th>\n",
       "    </tr>\n",
       "  </thead>\n",
       "  <tbody>\n",
       "  </tbody>\n",
       "</table>\n",
       "</div>"
      ],
      "text/plain": [
       "Empty DataFrame\n",
       "Columns: [Урилгын дугаар, ТШ-ын код, Тендер шалгаруулалтын нэр, Захиалагчийн нэр, Төсөвт өртөг, Нээсэн огноо, Төлөв]\n",
       "Index: []"
      ]
     },
     "execution_count": 29,
     "metadata": {},
     "output_type": "execute_result"
    }
   ],
   "source": [
    "data = pd.DataFrame(columns=headers)\n",
    "data"
   ]
  },
  {
   "cell_type": "code",
   "execution_count": 30,
   "id": "b0a5bc11-c42d-4ee1-a9eb-e5b0e10bf4fe",
   "metadata": {
    "tags": []
   },
   "outputs": [],
   "source": [
    "def crawler(url):\n",
    "    response = requests.get(url=url, headers=fake_ua)\n",
    "    response.encoding = 'utf-8'\n",
    "\n",
    "    soup = BeautifulSoup(response.text, 'lxml')\n",
    "\n",
    "    table = soup.find('table', class_='table sortable')\n",
    "    table = table.find('tbody')\n",
    "    for i in  table.find_all('tr'):\n",
    "        row_list = i.find_all('td')\n",
    "\n",
    "        row = [txt.text.strip() for txt in row_list]\n",
    "        length = len(data)\n",
    "        data.loc[length] = row"
   ]
  },
  {
   "cell_type": "code",
   "execution_count": 31,
   "id": "38732f51-c2ab-4171-b5e2-ce831232c359",
   "metadata": {
    "tags": []
   },
   "outputs": [],
   "source": [
    "for url in url_list:\n",
    "    try:\n",
    "        crawler(url)\n",
    "    except Exception as e:\n",
    "        pass\n"
   ]
  },
  {
   "cell_type": "code",
   "execution_count": 59,
   "id": "2d77993f-448d-4b22-bf12-74142ac87a19",
   "metadata": {
    "tags": []
   },
   "outputs": [
    {
     "data": {
      "text/html": [
       "<div>\n",
       "<style scoped>\n",
       "    .dataframe tbody tr th:only-of-type {\n",
       "        vertical-align: middle;\n",
       "    }\n",
       "\n",
       "    .dataframe tbody tr th {\n",
       "        vertical-align: top;\n",
       "    }\n",
       "\n",
       "    .dataframe thead th {\n",
       "        text-align: right;\n",
       "    }\n",
       "</style>\n",
       "<table border=\"1\" class=\"dataframe\">\n",
       "  <thead>\n",
       "    <tr style=\"text-align: right;\">\n",
       "      <th></th>\n",
       "      <th>Урилгын дугаар</th>\n",
       "      <th>ТШ-ын код</th>\n",
       "      <th>Тендер шалгаруулалтын нэр</th>\n",
       "      <th>Захиалагчийн нэр</th>\n",
       "      <th>Төсөвт өртөг</th>\n",
       "      <th>Нээсэн огноо</th>\n",
       "      <th>Төлөв</th>\n",
       "    </tr>\n",
       "  </thead>\n",
       "  <tbody>\n",
       "    <tr>\n",
       "      <th>0</th>\n",
       "      <td>ХОАДӨСЗДТГ/202301002/01/01</td>\n",
       "      <td>ХОАДӨСЗДТГ/202301002</td>\n",
       "      <td>Соёлын төвийн сандал шинэчлэх</td>\n",
       "      <td>Ховд аймгийн Дөргөн сумын засаг даргын тамгын ...</td>\n",
       "      <td>30,000,000₮</td>\n",
       "      <td>2023-05-19 15:20</td>\n",
       "      <td>Нээгдсэн</td>\n",
       "    </tr>\n",
       "    <tr>\n",
       "      <th>1</th>\n",
       "      <td>СЭАОНӨГ/202312072/01/01</td>\n",
       "      <td>СЭАОНӨГ/202312072</td>\n",
       "      <td>Өндрийн усан сан байгуулах /Орхон сум/</td>\n",
       "      <td>Сэлэнгэ аймгийн Орхон сумын Засаг даргын тамгы...</td>\n",
       "      <td>400,000,000₮</td>\n",
       "      <td>2023-05-19 15:15</td>\n",
       "      <td>Нээгдсэн</td>\n",
       "    </tr>\n",
       "    <tr>\n",
       "      <th>2</th>\n",
       "      <td>ННҮГ/202302001/01/01</td>\n",
       "      <td>ННҮГ/202302001</td>\n",
       "      <td>Хоол хүнсний бараа бүтээгдэхүүн худалдан авах</td>\n",
       "      <td>Нийслэлийн нийтлэг үйлчилгээний газар</td>\n",
       "      <td>1,300,000,000₮</td>\n",
       "      <td>2023-05-19 14:35</td>\n",
       "      <td>Нээгдсэн</td>\n",
       "    </tr>\n",
       "    <tr>\n",
       "      <th>3</th>\n",
       "      <td>ДАА1ЦЭ/202301001/04/01</td>\n",
       "      <td>ДАА1ЦЭ/202301001</td>\n",
       "      <td>Хүүхдийн хоолны хүнсний материал худалдан авах</td>\n",
       "      <td>Дархан-Уул аймаг 1-р цэцэрлэг</td>\n",
       "      <td>62,620,400₮</td>\n",
       "      <td>2023-05-19 14:30</td>\n",
       "      <td>Нээгдсэн</td>\n",
       "    </tr>\n",
       "    <tr>\n",
       "      <th>4</th>\n",
       "      <td>ДУГАГУСЗДТГ/202312002/01/01</td>\n",
       "      <td>ДУГАГУСЗДТГ/202312002</td>\n",
       "      <td>Багш нарын байрыг засварлах</td>\n",
       "      <td>Дундговь аймгийн Говь-Угтаал сумын Засаг даргы...</td>\n",
       "      <td>135,000,000₮</td>\n",
       "      <td>2023-05-19 14:30</td>\n",
       "      <td>Нээгдсэн</td>\n",
       "    </tr>\n",
       "    <tr>\n",
       "      <th>...</th>\n",
       "      <td>...</td>\n",
       "      <td>...</td>\n",
       "      <td>...</td>\n",
       "      <td>...</td>\n",
       "      <td>...</td>\n",
       "      <td>...</td>\n",
       "      <td>...</td>\n",
       "    </tr>\n",
       "    <tr>\n",
       "      <th>122884</th>\n",
       "      <td>ШС/07</td>\n",
       "      <td>ШС/07</td>\n",
       "      <td>Төв аймгийн Хүүхдийн ордны засвар</td>\n",
       "      <td>Төв аймгийн засаг даргын тамгийн газар</td>\n",
       "      <td>150,000,000₮</td>\n",
       "      <td>2011-04-01 10:30</td>\n",
       "      <td>Үр дүн гарсан</td>\n",
       "    </tr>\n",
       "    <tr>\n",
       "      <th>122885</th>\n",
       "      <td>НТШ/11/03</td>\n",
       "      <td>НТШ/11/03</td>\n",
       "      <td>Зуунмод сумын ЗДТГ-ын конторын засвар</td>\n",
       "      <td>Төв аймгийн засаг даргын тамгийн газар</td>\n",
       "      <td>89,000,000₮</td>\n",
       "      <td>2011-04-01 00:00</td>\n",
       "      <td>Үр дүн гарсан</td>\n",
       "    </tr>\n",
       "    <tr>\n",
       "      <th>122886</th>\n",
       "      <td>r-УВЗТТ-04/2013</td>\n",
       "      <td>r-УВЗТТ-04/2013</td>\n",
       "      <td>r-Увс Аймагт хэрэгжих барилга их засварын зура...</td>\n",
       "      <td>Увс аймгийн Засаг даргын тамгын газар</td>\n",
       "      <td>28,000,000₮</td>\n",
       "      <td>1901-01-01 00:00</td>\n",
       "      <td>Үр дүн гарсан</td>\n",
       "    </tr>\n",
       "    <tr>\n",
       "      <th>122887</th>\n",
       "      <td>1111</td>\n",
       "      <td>ТТБ1/201600002</td>\n",
       "      <td>40 айлийн орон сууц</td>\n",
       "      <td>Тестийн төрийн байгууллага</td>\n",
       "      <td>0₮</td>\n",
       "      <td>1899-12-31 16:00</td>\n",
       "      <td>Үр дүн гарсан</td>\n",
       "    </tr>\n",
       "    <tr>\n",
       "      <th>122888</th>\n",
       "      <td>1111</td>\n",
       "      <td>ТТБ1/201600002</td>\n",
       "      <td>40 айлийн орон сууц</td>\n",
       "      <td>Тестийн төрийн байгууллага</td>\n",
       "      <td>0₮</td>\n",
       "      <td>1899-12-31 16:00</td>\n",
       "      <td>Үр дүн гарсан</td>\n",
       "    </tr>\n",
       "  </tbody>\n",
       "</table>\n",
       "<p>122889 rows × 7 columns</p>\n",
       "</div>"
      ],
      "text/plain": [
       "                     Урилгын дугаар              ТШ-ын код  \\\n",
       "0        ХОАДӨСЗДТГ/202301002/01/01   ХОАДӨСЗДТГ/202301002   \n",
       "1           СЭАОНӨГ/202312072/01/01      СЭАОНӨГ/202312072   \n",
       "2              ННҮГ/202302001/01/01         ННҮГ/202302001   \n",
       "3            ДАА1ЦЭ/202301001/04/01       ДАА1ЦЭ/202301001   \n",
       "4       ДУГАГУСЗДТГ/202312002/01/01  ДУГАГУСЗДТГ/202312002   \n",
       "...                             ...                    ...   \n",
       "122884                        ШС/07                  ШС/07   \n",
       "122885                    НТШ/11/03              НТШ/11/03   \n",
       "122886              r-УВЗТТ-04/2013        r-УВЗТТ-04/2013   \n",
       "122887                         1111         ТТБ1/201600002   \n",
       "122888                         1111         ТТБ1/201600002   \n",
       "\n",
       "                                Тендер шалгаруулалтын нэр  \\\n",
       "0                           Соёлын төвийн сандал шинэчлэх   \n",
       "1                  Өндрийн усан сан байгуулах /Орхон сум/   \n",
       "2           Хоол хүнсний бараа бүтээгдэхүүн худалдан авах   \n",
       "3          Хүүхдийн хоолны хүнсний материал худалдан авах   \n",
       "4                             Багш нарын байрыг засварлах   \n",
       "...                                                   ...   \n",
       "122884                  Төв аймгийн Хүүхдийн ордны засвар   \n",
       "122885              Зуунмод сумын ЗДТГ-ын конторын засвар   \n",
       "122886  r-Увс Аймагт хэрэгжих барилга их засварын зура...   \n",
       "122887                                40 айлийн орон сууц   \n",
       "122888                                40 айлийн орон сууц   \n",
       "\n",
       "                                         Захиалагчийн нэр    Төсөвт өртөг  \\\n",
       "0       Ховд аймгийн Дөргөн сумын засаг даргын тамгын ...     30,000,000₮   \n",
       "1       Сэлэнгэ аймгийн Орхон сумын Засаг даргын тамгы...    400,000,000₮   \n",
       "2                   Нийслэлийн нийтлэг үйлчилгээний газар  1,300,000,000₮   \n",
       "3                           Дархан-Уул аймаг 1-р цэцэрлэг     62,620,400₮   \n",
       "4       Дундговь аймгийн Говь-Угтаал сумын Засаг даргы...    135,000,000₮   \n",
       "...                                                   ...             ...   \n",
       "122884             Төв аймгийн засаг даргын тамгийн газар    150,000,000₮   \n",
       "122885             Төв аймгийн засаг даргын тамгийн газар     89,000,000₮   \n",
       "122886              Увс аймгийн Засаг даргын тамгын газар     28,000,000₮   \n",
       "122887                         Тестийн төрийн байгууллага              0₮   \n",
       "122888                         Тестийн төрийн байгууллага              0₮   \n",
       "\n",
       "            Нээсэн огноо          Төлөв  \n",
       "0       2023-05-19 15:20       Нээгдсэн  \n",
       "1       2023-05-19 15:15       Нээгдсэн  \n",
       "2       2023-05-19 14:35       Нээгдсэн  \n",
       "3       2023-05-19 14:30       Нээгдсэн  \n",
       "4       2023-05-19 14:30       Нээгдсэн  \n",
       "...                  ...            ...  \n",
       "122884  2011-04-01 10:30  Үр дүн гарсан  \n",
       "122885  2011-04-01 00:00  Үр дүн гарсан  \n",
       "122886  1901-01-01 00:00  Үр дүн гарсан  \n",
       "122887  1899-12-31 16:00  Үр дүн гарсан  \n",
       "122888  1899-12-31 16:00  Үр дүн гарсан  \n",
       "\n",
       "[122889 rows x 7 columns]"
      ]
     },
     "execution_count": 59,
     "metadata": {},
     "output_type": "execute_result"
    }
   ],
   "source": [
    "data"
   ]
  },
  {
   "cell_type": "code",
   "execution_count": 100,
   "id": "8fa071a1-7c24-48c6-a8a9-8f95847112b2",
   "metadata": {
    "tags": []
   },
   "outputs": [],
   "source": [
    "data.to_csv('tender_gov.csv', index=False)\n",
    "\n"
   ]
  },
  {
   "cell_type": "code",
   "execution_count": 3,
   "id": "98bc8a0c-1dfb-4aa6-9770-b86c58f364c5",
   "metadata": {
    "tags": []
   },
   "outputs": [],
   "source": [
    "mydata2 = pd.read_csv('tender_gov.csv')"
   ]
  },
  {
   "cell_type": "code",
   "execution_count": 4,
   "id": "ce032414-b841-4368-abe6-47d00765030c",
   "metadata": {
    "tags": []
   },
   "outputs": [
    {
     "data": {
      "text/plain": [
       "Үр дүн гарсан                114487\n",
       "Нээгдсэн                       6306\n",
       "Хянан үзсэн                    1292\n",
       "Хүчингүй болгосон               354\n",
       "Хүчингүй болсон                 129\n",
       "Тендер хүлээн авч байгаа        119\n",
       "Гомдол үндэслэлтэй              103\n",
       "Хураангүй жагсаалт үүссэн        56\n",
       "Амжилтгүй болсон                 39\n",
       "Илгээгдсэн                        2\n",
       "Нийтлэгдсэн                       1\n",
       "Name: Төлөв, dtype: int64"
      ]
     },
     "execution_count": 4,
     "metadata": {},
     "output_type": "execute_result"
    }
   ],
   "source": [
    "fd  = mydata2['Төсөвт өртөг']\n",
    "fdf = mydata2['Төлөв']\n",
    "fdf.value_counts()"
   ]
  },
  {
   "cell_type": "code",
   "execution_count": 5,
   "id": "1740bcb2-2369-4727-9c43-7b2cb79bdfc3",
   "metadata": {
    "tags": []
   },
   "outputs": [],
   "source": [
    "def replaced(string):\n",
    "    try:\n",
    "        str_replace = string.replace(\"₮\", \"\").replace(',','')\n",
    "        return int(str_replace)\n",
    "    except Exception:\n",
    "        return string"
   ]
  },
  {
   "cell_type": "code",
   "execution_count": 6,
   "id": "39fdfa8b-a733-4ac2-94f1-a7d1864e5b82",
   "metadata": {
    "tags": []
   },
   "outputs": [
    {
     "data": {
      "text/html": [
       "<div>\n",
       "<style scoped>\n",
       "    .dataframe tbody tr th:only-of-type {\n",
       "        vertical-align: middle;\n",
       "    }\n",
       "\n",
       "    .dataframe tbody tr th {\n",
       "        vertical-align: top;\n",
       "    }\n",
       "\n",
       "    .dataframe thead th {\n",
       "        text-align: right;\n",
       "    }\n",
       "</style>\n",
       "<table border=\"1\" class=\"dataframe\">\n",
       "  <thead>\n",
       "    <tr style=\"text-align: right;\">\n",
       "      <th></th>\n",
       "      <th>Төсөвт өртөг</th>\n",
       "    </tr>\n",
       "  </thead>\n",
       "  <tbody>\n",
       "    <tr>\n",
       "      <th>0</th>\n",
       "      <td>30000000</td>\n",
       "    </tr>\n",
       "    <tr>\n",
       "      <th>1</th>\n",
       "      <td>400000000</td>\n",
       "    </tr>\n",
       "    <tr>\n",
       "      <th>2</th>\n",
       "      <td>1300000000</td>\n",
       "    </tr>\n",
       "    <tr>\n",
       "      <th>3</th>\n",
       "      <td>62620400</td>\n",
       "    </tr>\n",
       "    <tr>\n",
       "      <th>4</th>\n",
       "      <td>135000000</td>\n",
       "    </tr>\n",
       "    <tr>\n",
       "      <th>...</th>\n",
       "      <td>...</td>\n",
       "    </tr>\n",
       "    <tr>\n",
       "      <th>122885</th>\n",
       "      <td>150000000</td>\n",
       "    </tr>\n",
       "    <tr>\n",
       "      <th>122886</th>\n",
       "      <td>89000000</td>\n",
       "    </tr>\n",
       "    <tr>\n",
       "      <th>122887</th>\n",
       "      <td>28000000</td>\n",
       "    </tr>\n",
       "    <tr>\n",
       "      <th>122888</th>\n",
       "      <td>0</td>\n",
       "    </tr>\n",
       "    <tr>\n",
       "      <th>122889</th>\n",
       "      <td>0</td>\n",
       "    </tr>\n",
       "  </tbody>\n",
       "</table>\n",
       "<p>122889 rows × 1 columns</p>\n",
       "</div>"
      ],
      "text/plain": [
       "       Төсөвт өртөг\n",
       "0          30000000\n",
       "1         400000000\n",
       "2        1300000000\n",
       "3          62620400\n",
       "4         135000000\n",
       "...             ...\n",
       "122885    150000000\n",
       "122886     89000000\n",
       "122887     28000000\n",
       "122888            0\n",
       "122889            0\n",
       "\n",
       "[122889 rows x 1 columns]"
      ]
     },
     "execution_count": 6,
     "metadata": {},
     "output_type": "execute_result"
    }
   ],
   "source": [
    "fd = fd.apply(replaced)\n",
    "fd = pd.DataFrame(fd)\n",
    "fd = fd.dropna()\n",
    "fd"
   ]
  },
  {
   "cell_type": "code",
   "execution_count": 7,
   "id": "43da32dc-6c8d-43f1-bfaf-5dc70a4a77fd",
   "metadata": {
    "tags": []
   },
   "outputs": [
    {
     "data": {
      "text/plain": [
       "Төсөвт өртөг    87691506873748\n",
       "dtype: object"
      ]
     },
     "execution_count": 7,
     "metadata": {},
     "output_type": "execute_result"
    }
   ],
   "source": [
    "fd[0:35783].sum() + fd[35784:122888].sum() "
   ]
  },
  {
   "cell_type": "code",
   "execution_count": null,
   "id": "0457a444-e90b-4b7f-85ac-84e565eb750e",
   "metadata": {},
   "outputs": [],
   "source": [
    "87 691 506 873 748"
   ]
  },
  {
   "cell_type": "code",
   "execution_count": null,
   "id": "d6e1dae6-54d7-4cee-b9e2-644d85595414",
   "metadata": {},
   "outputs": [],
   "source": []
  }
 ],
 "metadata": {
  "kernelspec": {
   "display_name": "base",
   "language": "python",
   "name": "base"
  },
  "language_info": {
   "codemirror_mode": {
    "name": "ipython",
    "version": 3
   },
   "file_extension": ".py",
   "mimetype": "text/x-python",
   "name": "python",
   "nbconvert_exporter": "python",
   "pygments_lexer": "ipython3",
   "version": "3.10.9"
  }
 },
 "nbformat": 4,
 "nbformat_minor": 5
}
