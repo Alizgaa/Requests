{
 "cells": [
  {
   "cell_type": "code",
   "execution_count": 18,
   "id": "5de2f4f8-164e-41a9-8ca6-a4b325459740",
   "metadata": {
    "tags": []
   },
   "outputs": [],
   "source": [
    "from bs4 import BeautifulSoup\n",
    "from fake_useragent import UserAgent\n",
    "import pandas as pd\n",
    "import requests\n",
    "import time\n",
    "import lxml"
   ]
  },
  {
   "cell_type": "code",
   "execution_count": 19,
   "id": "fe7e8408-ad0e-4e2b-9437-a5abf34fe9d9",
   "metadata": {
    "tags": []
   },
   "outputs": [
    {
     "name": "stdout",
     "output_type": "stream",
     "text": [
      "8999999\n"
     ]
    }
   ],
   "source": [
    "url = 'http://opendata.burtgel.gov.mn/lesinfo/'\n",
    "\n",
    "url_link_check = [f\"{url}{i}\" for i in range(1000000, 9999999)]\n",
    "print(len(url_link_check))"
   ]
  },
  {
   "cell_type": "code",
   "execution_count": 20,
   "id": "e7def89c-6732-4595-bf72-5d5e429534e9",
   "metadata": {
    "tags": []
   },
   "outputs": [
    {
     "name": "stdout",
     "output_type": "stream",
     "text": [
      "6566\n"
     ]
    }
   ],
   "source": [
    "registr = pd.read_csv('data_company.csv')\n",
    "\n",
    "url_link_use = []\n",
    "for i in registr['Регистерийн дугаар']:\n",
    "    url_link_use.append(f'{url}{i}')\n",
    "print(len(url_link_use))\n"
   ]
  },
  {
   "cell_type": "code",
   "execution_count": 21,
   "id": "ca3a76b9-979b-4cc2-aa4c-2d0738c5aa85",
   "metadata": {
    "tags": []
   },
   "outputs": [
    {
     "name": "stdout",
     "output_type": "stream",
     "text": [
      "8993433\n"
     ]
    }
   ],
   "source": [
    "print(len(url_link_check)-len(url_link_use))"
   ]
  },
  {
   "cell_type": "code",
   "execution_count": 22,
   "id": "97c387e0-802e-4574-ade3-c46ed4106319",
   "metadata": {
    "tags": []
   },
   "outputs": [
    {
     "name": "stdout",
     "output_type": "stream",
     "text": [
      "8993861\n"
     ]
    }
   ],
   "source": [
    "url_link = list(set(url_link_check) - set(url_link_use))\n",
    "print(len(url_link))"
   ]
  },
  {
   "cell_type": "code",
   "execution_count": 23,
   "id": "a7ad40a5-4d35-4b1c-8b32-1505fc9a1b3a",
   "metadata": {
    "tags": []
   },
   "outputs": [
    {
     "data": {
      "text/html": [
       "<div>\n",
       "<style scoped>\n",
       "    .dataframe tbody tr th:only-of-type {\n",
       "        vertical-align: middle;\n",
       "    }\n",
       "\n",
       "    .dataframe tbody tr th {\n",
       "        vertical-align: top;\n",
       "    }\n",
       "\n",
       "    .dataframe thead th {\n",
       "        text-align: right;\n",
       "    }\n",
       "</style>\n",
       "<table border=\"1\" class=\"dataframe\">\n",
       "  <thead>\n",
       "    <tr style=\"text-align: right;\">\n",
       "      <th></th>\n",
       "      <th>Регистр</th>\n",
       "      <th>Нэр</th>\n",
       "      <th>Хаяг</th>\n",
       "      <th>Бүртгэсэн_огноо</th>\n",
       "      <th>Үйл_ажиллагааны_чиглэл</th>\n",
       "      <th>Хувьцаа_эзэмшигчийн_тоо</th>\n",
       "      <th>Хувьцаа_эзэмшигч_гишүүд</th>\n",
       "      <th>Итгэмжлэлгүйгээр_төлөөлөх_албан_тушаалтан</th>\n",
       "      <th>ИТАТ_бүртгэсэн_огноо</th>\n",
       "      <th>Эцсийн_Өмчлөгч</th>\n",
       "      <th>ЭӨ_бүртгэсэн_огноо</th>\n",
       "    </tr>\n",
       "  </thead>\n",
       "  <tbody>\n",
       "  </tbody>\n",
       "</table>\n",
       "</div>"
      ],
      "text/plain": [
       "Empty DataFrame\n",
       "Columns: [Регистр, Нэр, Хаяг, Бүртгэсэн_огноо, Үйл_ажиллагааны_чиглэл, Хувьцаа_эзэмшигчийн_тоо, Хувьцаа_эзэмшигч_гишүүд, Итгэмжлэлгүйгээр_төлөөлөх_албан_тушаалтан, ИТАТ_бүртгэсэн_огноо, Эцсийн_Өмчлөгч, ЭӨ_бүртгэсэн_огноо]\n",
       "Index: []"
      ]
     },
     "execution_count": 23,
     "metadata": {},
     "output_type": "execute_result"
    }
   ],
   "source": [
    "headers =['Регистр', 'Нэр', 'Хаяг', 'Бүртгэсэн_огноо', 'Үйл_ажиллагааны_чиглэл',\n",
    "          'Хувьцаа_эзэмшигчийн_тоо', 'Хувьцаа_эзэмшигч_гишүүд', \n",
    "          'Итгэмжлэлгүйгээр_төлөөлөх_албан_тушаалтан','ИТАТ_бүртгэсэн_огноо',\n",
    "          'Эцсийн_Өмчлөгч', 'ЭӨ_бүртгэсэн_огноо']\n",
    "\n",
    "\n",
    "data = pd.DataFrame(columns=headers)\n",
    "data"
   ]
  },
  {
   "cell_type": "code",
   "execution_count": 24,
   "id": "ee5cbf8f-1af6-44b0-b075-8a903bf1f7f8",
   "metadata": {
    "tags": []
   },
   "outputs": [],
   "source": [
    "def crawl(url):    \n",
    "    ua = UserAgent()\n",
    "    fake_ua = {'user-agent': ua.random}\n",
    "\n",
    "    used_link = []\n",
    "\n",
    "    \n",
    "    response = requests.get(url=url, headers=fake_ua)\n",
    "    response.encoding = 'utf-8'\n",
    "\n",
    "    soup = BeautifulSoup(response.text, 'lxml')\n",
    "\n",
    "    table = soup.find('table', class_='table table-bordered table-hover').find('tbody')\n",
    "    registr = table.find('td')\n",
    "\n",
    "    if registr.text != \"Тохирох мэдээлэл олдсонгүй\":\n",
    "        try:\n",
    "            row = []\n",
    "\n",
    "            table = soup.find('table', class_='table table-bordered table-hover').find('tbody')\n",
    "\n",
    "            # регистр\n",
    "            try:\n",
    "                regist = table.find('td')\n",
    "                row.append(regist.text)\n",
    "            except Exception as e:\n",
    "                row.append('')\n",
    "\n",
    "            # Нэр\n",
    "            try:\n",
    "                name = table.find_all('td')[1]\n",
    "                row.append(name.text)\n",
    "            except Exception as e:\n",
    "                row.append('')\n",
    "\n",
    "            # Хаяг\n",
    "            try:\n",
    "                adress = table.find_all('td')[6]\n",
    "                row.append(adress.text)\n",
    "            except Exception as e:\n",
    "                row.append('')\n",
    "\n",
    "            # Бүртгүүлсэн огноо\n",
    "            try:\n",
    "                date = table.find_all('td')[2]\n",
    "                row.append(date.text)\n",
    "            except Exception as e:\n",
    "                row.append('')\n",
    "\n",
    "            # Үйл ажиллагааны чиглэл\n",
    "            try:\n",
    "                table3 = soup.find_all('table', class_='table table-bordered table-hover')[3]\n",
    "                field_act = \"\"\n",
    "                field = table3.find_all('tr')\n",
    "                for i in field[1:]:\n",
    "                    field_act = f'{i.find_all(\"td\")[3].text}, {field_act}'\n",
    "                row.append(field_act)\n",
    "            except Exception as e:\n",
    "                row.append('')\n",
    "\n",
    "            # Хувьцаа эзэмшигчийн тоо\n",
    "            try:\n",
    "                count = table.find_all('td')[5]\n",
    "                row.append(count.text)\n",
    "            except Exception as e:\n",
    "                row.append('')\n",
    "\n",
    "            # Хувьцаа эзэмшигч гишүүд\n",
    "            try:\n",
    "                table1 = soup.find_all('table', class_='table table-bordered table-hover')[1]\n",
    "                sur_name = \"\"\n",
    "                table1 = table1.find_all('tr')\n",
    "                for i in table1[1:]:\n",
    "                    surname = i.find_all(\"td\")[3].text + '.' + i.find_all('td')[4].text\n",
    "                    sur_name = f'{surname}, {sur_name}'\n",
    "                row.append(sur_name)\n",
    "            except Exception as e:\n",
    "                row.append('')\n",
    "\n",
    "            # Итгэмжлэлгүйгээр төлөөлөх албан тушаалтан\n",
    "            try:\n",
    "                table2 = soup.find_all('table', class_='table table-bordered table-hover')[2]\n",
    "                s = table2.find_all('td')[3].text\n",
    "                n = table2.find_all('td')[4].text\n",
    "                row.append(s + '.' + n)\n",
    "            except Exception as e:\n",
    "                row.append('')\n",
    "\n",
    "            # ИТАТ_бүртгэсэн_огноо\n",
    "            try:\n",
    "                table2 = soup.find_all('table', class_='table table-bordered table-hover')[2]\n",
    "                t = table2.find_all('td')[5].text\n",
    "                row.append(t)\n",
    "            except Exception as e:\n",
    "                row.append('')\n",
    "\n",
    "            # Эцсийн өмчлөгч\n",
    "            try:\n",
    "                table4 = soup.find_all('table', class_='table table-bordered table-hover')[4]\n",
    "                sur_name1 = \"\"\n",
    "                table4 = table4.find_all('tr')\n",
    "                for i in table4[1:]:\n",
    "                    surname1 = i.find_all(\"td\")[2].text + '.' + i.find_all('td')[3].text\n",
    "                    sur_name1 = f'{surname1}, {sur_name1}'\n",
    "                row.append(sur_name1)\n",
    "            except Exception as e:\n",
    "                row.append('')\n",
    "\n",
    "            # Эцсийн өмчлөгч бүртгэсэн огноо\n",
    "            try:\n",
    "                table4 = soup.find_all('table', class_='table table-bordered table-hover')[4]\n",
    "                tt = table4.find_all('td')[4].text\n",
    "                row.append(tt)\n",
    "            except Exception as e:\n",
    "                row.append('')\n",
    "        except Exception as e:\n",
    "            pass\n",
    "    return row"
   ]
  },
  {
   "cell_type": "code",
   "execution_count": 8,
   "id": "16911403-e63c-406b-9e41-6eb9b5ff1daf",
   "metadata": {
    "tags": []
   },
   "outputs": [
    {
     "data": {
      "text/html": [
       "<div>\n",
       "<style scoped>\n",
       "    .dataframe tbody tr th:only-of-type {\n",
       "        vertical-align: middle;\n",
       "    }\n",
       "\n",
       "    .dataframe tbody tr th {\n",
       "        vertical-align: top;\n",
       "    }\n",
       "\n",
       "    .dataframe thead th {\n",
       "        text-align: right;\n",
       "    }\n",
       "</style>\n",
       "<table border=\"1\" class=\"dataframe\">\n",
       "  <thead>\n",
       "    <tr style=\"text-align: right;\">\n",
       "      <th></th>\n",
       "      <th>Регистр</th>\n",
       "      <th>Нэр</th>\n",
       "      <th>Хаяг</th>\n",
       "      <th>Бүртгэсэн_огноо</th>\n",
       "      <th>Үйл_ажиллагааны_чиглэл</th>\n",
       "      <th>Хувьцаа_эзэмшигчийн_тоо</th>\n",
       "      <th>Хувьцаа_эзэмшигч_гишүүд</th>\n",
       "      <th>Итгэмжлэлгүйгээр_төлөөлөх_албан_тушаалтан</th>\n",
       "      <th>ИТАТ_бүртгэсэн_огноо</th>\n",
       "      <th>Эцсийн_Өмчлөгч</th>\n",
       "      <th>ЭӨ_бүртгэсэн_огноо</th>\n",
       "    </tr>\n",
       "  </thead>\n",
       "  <tbody>\n",
       "  </tbody>\n",
       "</table>\n",
       "</div>"
      ],
      "text/plain": [
       "Empty DataFrame\n",
       "Columns: [Регистр, Нэр, Хаяг, Бүртгэсэн_огноо, Үйл_ажиллагааны_чиглэл, Хувьцаа_эзэмшигчийн_тоо, Хувьцаа_эзэмшигч_гишүүд, Итгэмжлэлгүйгээр_төлөөлөх_албан_тушаалтан, ИТАТ_бүртгэсэн_огноо, Эцсийн_Өмчлөгч, ЭӨ_бүртгэсэн_огноо]\n",
       "Index: []"
      ]
     },
     "execution_count": 8,
     "metadata": {},
     "output_type": "execute_result"
    }
   ],
   "source": [
    "import threading\n"
   ]
  },
  {
   "cell_type": "code",
   "execution_count": 12,
   "id": "63292572-7108-4fe6-9b27-b37012a7693e",
   "metadata": {
    "tags": []
   },
   "outputs": [],
   "source": [
    "def batch(lists, size):\n",
    "    batch_list = []\n",
    "    n = len(lists) // size\n",
    "    for i in range(n):\n",
    "        batch_list.append(lists[i * size: size + i * size])\n",
    "        \n",
    "    return batch_list\n",
    "\n"
   ]
  },
  {
   "cell_type": "code",
   "execution_count": 17,
   "id": "26b33fe5-03a7-42f3-ad47-38c79669f6b4",
   "metadata": {
    "tags": []
   },
   "outputs": [
    {
     "data": {
      "text/plain": [
       "[['http://opendata.burtgel.gov.mn/lesinfo/1320791',\n",
       "  'http://opendata.burtgel.gov.mn/lesinfo/7852387',\n",
       "  'http://opendata.burtgel.gov.mn/lesinfo/1588399',\n",
       "  'http://opendata.burtgel.gov.mn/lesinfo/9418624',\n",
       "  'http://opendata.burtgel.gov.mn/lesinfo/2519822',\n",
       "  'http://opendata.burtgel.gov.mn/lesinfo/5832244',\n",
       "  'http://opendata.burtgel.gov.mn/lesinfo/9549176',\n",
       "  'http://opendata.burtgel.gov.mn/lesinfo/3846211',\n",
       "  'http://opendata.burtgel.gov.mn/lesinfo/1681938',\n",
       "  'http://opendata.burtgel.gov.mn/lesinfo/9981088',\n",
       "  'http://opendata.burtgel.gov.mn/lesinfo/7178887',\n",
       "  'http://opendata.burtgel.gov.mn/lesinfo/1127655',\n",
       "  'http://opendata.burtgel.gov.mn/lesinfo/3923408',\n",
       "  'http://opendata.burtgel.gov.mn/lesinfo/9380640',\n",
       "  'http://opendata.burtgel.gov.mn/lesinfo/7565523',\n",
       "  'http://opendata.burtgel.gov.mn/lesinfo/2090501',\n",
       "  'http://opendata.burtgel.gov.mn/lesinfo/8796434',\n",
       "  'http://opendata.burtgel.gov.mn/lesinfo/7318422',\n",
       "  'http://opendata.burtgel.gov.mn/lesinfo/2853848',\n",
       "  'http://opendata.burtgel.gov.mn/lesinfo/8325464'],\n",
       " ['http://opendata.burtgel.gov.mn/lesinfo/2416009',\n",
       "  'http://opendata.burtgel.gov.mn/lesinfo/2607149',\n",
       "  'http://opendata.burtgel.gov.mn/lesinfo/8174175',\n",
       "  'http://opendata.burtgel.gov.mn/lesinfo/9176902',\n",
       "  'http://opendata.burtgel.gov.mn/lesinfo/8745916',\n",
       "  'http://opendata.burtgel.gov.mn/lesinfo/1591846',\n",
       "  'http://opendata.burtgel.gov.mn/lesinfo/8131076',\n",
       "  'http://opendata.burtgel.gov.mn/lesinfo/3093863',\n",
       "  'http://opendata.burtgel.gov.mn/lesinfo/2328478',\n",
       "  'http://opendata.burtgel.gov.mn/lesinfo/1932352',\n",
       "  'http://opendata.burtgel.gov.mn/lesinfo/6585038',\n",
       "  'http://opendata.burtgel.gov.mn/lesinfo/4339796',\n",
       "  'http://opendata.burtgel.gov.mn/lesinfo/9810169',\n",
       "  'http://opendata.burtgel.gov.mn/lesinfo/7501992',\n",
       "  'http://opendata.burtgel.gov.mn/lesinfo/8498856',\n",
       "  'http://opendata.burtgel.gov.mn/lesinfo/1644465',\n",
       "  'http://opendata.burtgel.gov.mn/lesinfo/3925321',\n",
       "  'http://opendata.burtgel.gov.mn/lesinfo/3829023',\n",
       "  'http://opendata.burtgel.gov.mn/lesinfo/8935030',\n",
       "  'http://opendata.burtgel.gov.mn/lesinfo/9593521']]"
      ]
     },
     "execution_count": 17,
     "metadata": {},
     "output_type": "execute_result"
    }
   ],
   "source": [
    "batch(url_link[0:50], 20)"
   ]
  },
  {
   "cell_type": "code",
   "execution_count": 26,
   "id": "1ca80c4e-dec8-4316-a57d-0f94b0672562",
   "metadata": {
    "tags": []
   },
   "outputs": [
    {
     "data": {
      "text/plain": [
       "1"
      ]
     },
     "execution_count": 26,
     "metadata": {},
     "output_type": "execute_result"
    }
   ],
   "source": [
    "a = [1]\n",
    "\n",
    "len(a)"
   ]
  },
  {
   "cell_type": "code",
   "execution_count": null,
   "id": "8ffac3e9-342c-496a-b706-d327d8fd6413",
   "metadata": {},
   "outputs": [],
   "source": []
  }
 ],
 "metadata": {
  "kernelspec": {
   "display_name": "base",
   "language": "python",
   "name": "base"
  },
  "language_info": {
   "codemirror_mode": {
    "name": "ipython",
    "version": 3
   },
   "file_extension": ".py",
   "mimetype": "text/x-python",
   "name": "python",
   "nbconvert_exporter": "python",
   "pygments_lexer": "ipython3",
   "version": "3.10.9"
  }
 },
 "nbformat": 4,
 "nbformat_minor": 5
}
